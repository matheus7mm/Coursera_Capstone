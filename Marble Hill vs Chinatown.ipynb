{
    "cells": [
        {
            "cell_type": "markdown",
            "metadata": {
                "collapsed": true
            },
            "source": "<h1> Marble Hill vs Chinatown </h1>"
        },
        {
            "cell_type": "markdown",
            "metadata": {},
            "source": "<h2> Introduction/Business Problem </h2>\n\nWhich neighborhood has more venues of the type Coffee Shop within a radius of 800 meters in Manhattan, Marble Hill\nor Chinatown?\n\n<h2> Data </h2>\n\nThe dataset would be: https://geo.nyu.edu/catalog/nyu_2451_34572. This dataset contains the 5 boroughs and the neighborhoods that exist in each borough as well as the the latitude and logitude coordinates of each neighborhood in New York City."
        },
        {
            "cell_type": "markdown",
            "metadata": {},
            "source": "<h2> Methodology </h2>\n\nFirst, we will import the dependencies that we will need."
        },
        {
            "cell_type": "code",
            "execution_count": 9,
            "metadata": {},
            "outputs": [
                {
                    "name": "stdout",
                    "output_type": "stream",
                    "text": "Requirement already satisfied: geopy in /opt/conda/envs/Python36/lib/python3.6/site-packages (1.18.1)\nRequirement already satisfied: geographiclib<2,>=1.49 in /opt/conda/envs/Python36/lib/python3.6/site-packages (from geopy) (1.49)\nRequirement already satisfied: folium in /opt/conda/envs/Python36/lib/python3.6/site-packages (0.10.1)\nRequirement already satisfied: numpy in /opt/conda/envs/Python36/lib/python3.6/site-packages (from folium) (1.15.4)\nRequirement already satisfied: requests in /opt/conda/envs/Python36/lib/python3.6/site-packages (from folium) (2.21.0)\nRequirement already satisfied: jinja2>=2.9 in /opt/conda/envs/Python36/lib/python3.6/site-packages (from folium) (2.10)\nRequirement already satisfied: branca>=0.3.0 in /opt/conda/envs/Python36/lib/python3.6/site-packages (from folium) (0.3.1)\nRequirement already satisfied: certifi>=2017.4.17 in /opt/conda/envs/Python36/lib/python3.6/site-packages (from requests->folium) (2019.11.28)\nRequirement already satisfied: chardet<3.1.0,>=3.0.2 in /opt/conda/envs/Python36/lib/python3.6/site-packages (from requests->folium) (3.0.4)\nRequirement already satisfied: urllib3<1.25,>=1.21.1 in /opt/conda/envs/Python36/lib/python3.6/site-packages (from requests->folium) (1.24.1)\nRequirement already satisfied: idna<2.9,>=2.5 in /opt/conda/envs/Python36/lib/python3.6/site-packages (from requests->folium) (2.8)\nRequirement already satisfied: MarkupSafe>=0.23 in /opt/conda/envs/Python36/lib/python3.6/site-packages (from jinja2>=2.9->folium) (1.1.0)\nRequirement already satisfied: six in /opt/conda/envs/Python36/lib/python3.6/site-packages (from branca>=0.3.0->folium) (1.12.0)\nLibraries imported.\n"
                }
            ],
            "source": "import numpy as np # library to handle data in a vectorized manner\n\nimport pandas as pd # library for data analsysis\n\nimport json # library to handle JSON files\n\n!pip install geopy\nfrom geopy.geocoders import Nominatim # convert an address into latitude and longitude values\n\nimport requests # library to handle requests\nfrom pandas.io.json import json_normalize # tranform JSON file into a pandas dataframe\n\n# Matplotlib and associated plotting modules\nimport matplotlib.cm as cm\nimport matplotlib.colors as colors\n\n# import k-means from clustering stage\nfrom sklearn.cluster import KMeans\n\n!pip install folium\nimport folium # map rendering library\n\nprint('Libraries imported.')"
        },
        {
            "cell_type": "markdown",
            "metadata": {},
            "source": "We will then download the data and convert it to a Pandas dataframe."
        },
        {
            "cell_type": "code",
            "execution_count": 10,
            "metadata": {},
            "outputs": [],
            "source": "!wget -q -O 'newyork_data.json' https://cocl.us/new_york_dataset\n\nwith open('newyork_data.json') as json_data:\n    newyork_data = json.load(json_data)\n\nneighborhoods_data = newyork_data['features']\n\n# define the dataframe columns\ncolumn_names = ['Borough', 'Neighborhood', 'Latitude', 'Longitude'] \n\n# instantiate the dataframe\nneighborhoods = pd.DataFrame(columns=column_names)\n\nfor data in neighborhoods_data:\n    borough = neighborhood_name = data['properties']['borough'] \n    neighborhood_name = data['properties']['name']\n        \n    neighborhood_latlon = data['geometry']['coordinates']\n    neighborhood_lat = neighborhood_latlon[1]\n    neighborhood_lon = neighborhood_latlon[0]\n    \n    neighborhoods = neighborhoods.append({'Borough': borough,\n                                          'Neighborhood': neighborhood_name,\n                                          'Latitude': neighborhood_lat,\n                                          'Longitude': neighborhood_lon}, ignore_index=True)"
        },
        {
            "cell_type": "markdown",
            "metadata": {},
            "source": "We will get then only the data from Manhattan. After that we will get the latitude and longitude of Marble Hill and Chinatown."
        },
        {
            "cell_type": "code",
            "execution_count": 11,
            "metadata": {},
            "outputs": [
                {
                    "data": {
                        "text/html": "<div>\n<style scoped>\n    .dataframe tbody tr th:only-of-type {\n        vertical-align: middle;\n    }\n\n    .dataframe tbody tr th {\n        vertical-align: top;\n    }\n\n    .dataframe thead th {\n        text-align: right;\n    }\n</style>\n<table border=\"1\" class=\"dataframe\">\n  <thead>\n    <tr style=\"text-align: right;\">\n      <th></th>\n      <th>Borough</th>\n      <th>Neighborhood</th>\n      <th>Latitude</th>\n      <th>Longitude</th>\n    </tr>\n  </thead>\n  <tbody>\n    <tr>\n      <th>0</th>\n      <td>Manhattan</td>\n      <td>Marble Hill</td>\n      <td>40.876551</td>\n      <td>-73.910660</td>\n    </tr>\n    <tr>\n      <th>1</th>\n      <td>Manhattan</td>\n      <td>Chinatown</td>\n      <td>40.715618</td>\n      <td>-73.994279</td>\n    </tr>\n    <tr>\n      <th>2</th>\n      <td>Manhattan</td>\n      <td>Washington Heights</td>\n      <td>40.851903</td>\n      <td>-73.936900</td>\n    </tr>\n    <tr>\n      <th>3</th>\n      <td>Manhattan</td>\n      <td>Inwood</td>\n      <td>40.867684</td>\n      <td>-73.921210</td>\n    </tr>\n    <tr>\n      <th>4</th>\n      <td>Manhattan</td>\n      <td>Hamilton Heights</td>\n      <td>40.823604</td>\n      <td>-73.949688</td>\n    </tr>\n  </tbody>\n</table>\n</div>",
                        "text/plain": "     Borough        Neighborhood   Latitude  Longitude\n0  Manhattan         Marble Hill  40.876551 -73.910660\n1  Manhattan           Chinatown  40.715618 -73.994279\n2  Manhattan  Washington Heights  40.851903 -73.936900\n3  Manhattan              Inwood  40.867684 -73.921210\n4  Manhattan    Hamilton Heights  40.823604 -73.949688"
                    },
                    "execution_count": 11,
                    "metadata": {},
                    "output_type": "execute_result"
                }
            ],
            "source": "manhattan_data = neighborhoods[neighborhoods['Borough'] == 'Manhattan'].reset_index(drop=True)\nmanhattan_data.head()"
        },
        {
            "cell_type": "code",
            "execution_count": 35,
            "metadata": {},
            "outputs": [],
            "source": "MarbleHillIndex = manhattan_data[manhattan_data['Neighborhood'] == 'Marble Hill'].index\nChinatownIndex = manhattan_data[manhattan_data['Neighborhood'] == 'Chinatown'].index\n\nMarbleHill_latitude = manhattan_data.loc[MarbleHillIndex[0], 'Latitude'] # neighborhood latitude value\nMarbleHill_longitude = manhattan_data.loc[MarbleHillIndex[0], 'Longitude'] # neighborhood longitude value\n\nChinatown_latitude = manhattan_data.loc[ChinatownIndex[0], 'Latitude'] # neighborhood latitude value\nChinatown_longitude = manhattan_data.loc[ChinatownIndex[0], 'Longitude'] # neighborhood longitude value"
        },
        {
            "cell_type": "markdown",
            "metadata": {},
            "source": "We then define the Foursquare credentials and version."
        },
        {
            "cell_type": "code",
            "execution_count": 16,
            "metadata": {},
            "outputs": [],
            "source": "# The code was removed by Watson Studio for sharing."
        },
        {
            "cell_type": "markdown",
            "metadata": {},
            "source": "Now, we will get the venues that are in Marble Hill and Chinatown within a radius of 800 meters."
        },
        {
            "cell_type": "code",
            "execution_count": 42,
            "metadata": {},
            "outputs": [],
            "source": "# function that extracts the category of the venue\ndef get_category_type(row):\n    try:\n        categories_list = row['categories']\n    except:\n        categories_list = row['venue.categories']\n        \n    if len(categories_list) == 0:\n        return None\n    else:\n        return categories_list[0]['name']"
        },
        {
            "cell_type": "code",
            "execution_count": 50,
            "metadata": {},
            "outputs": [],
            "source": "radius = 800 # define radius\n\nMarbleHill_url = 'https://api.foursquare.com/v2/venues/explore?&client_id={}&client_secret={}&v={}&ll={},{}&radius={}'.format(\n    CLIENT_ID, \n    CLIENT_SECRET, \n    VERSION, \n    MarbleHill_latitude, \n    MarbleHill_longitude, \n    radius)\n\nChinatown_url = 'https://api.foursquare.com/v2/venues/explore?&client_id={}&client_secret={}&v={}&ll={},{}&radius={}'.format(\n    CLIENT_ID, \n    CLIENT_SECRET, \n    VERSION, \n    Chinatown_latitude, \n    Chinatown_longitude, \n    radius)\n\nMarbleHill_results = requests.get(MarbleHill_url).json()\nChinatown_results = requests.get(Chinatown_url).json()\n \n# MarbleHill DATAFRAME\nMarbleHill_venues = MarbleHill_results['response']['groups'][0]['items']\n    \nMarbleHill_venues = json_normalize(MarbleHill_venues) # flatten JSON\n\n# filter columns\nfiltered_columns = ['venue.name', 'venue.categories', 'venue.location.lat', 'venue.location.lng']\nMarbleHill_venues = MarbleHill_venues.loc[:, filtered_columns]\n\n# filter the category for each row\nMarbleHill_venues['venue.categories'] = MarbleHill_venues.apply(get_category_type, axis=1)\n\n# clean columns\nMarbleHill_venues.columns = [col.split(\".\")[-1] for col in MarbleHill_venues.columns]\n\n# Chinatown DATAFRAME\nChinatown_venues = Chinatown_results['response']['groups'][0]['items']\n    \nChinatown_venues = json_normalize(Chinatown_venues) # flatten JSON\n\n# filter columns\nfiltered_columns = ['venue.name', 'venue.categories', 'venue.location.lat', 'venue.location.lng']\nChinatown_venues = Chinatown_venues.loc[:, filtered_columns]\n\n# filter the category for each row\nChinatown_venues['venue.categories'] = Chinatown_venues.apply(get_category_type, axis=1)\n\n# clean columns\nChinatown_venues.columns = [col.split(\".\")[-1] for col in Chinatown_venues.columns]"
        },
        {
            "cell_type": "markdown",
            "metadata": {},
            "source": "All the venus from MarbleHill and Chinatown."
        },
        {
            "cell_type": "code",
            "execution_count": 46,
            "metadata": {},
            "outputs": [
                {
                    "data": {
                        "text/html": "<div>\n<style scoped>\n    .dataframe tbody tr th:only-of-type {\n        vertical-align: middle;\n    }\n\n    .dataframe tbody tr th {\n        vertical-align: top;\n    }\n\n    .dataframe thead th {\n        text-align: right;\n    }\n</style>\n<table border=\"1\" class=\"dataframe\">\n  <thead>\n    <tr style=\"text-align: right;\">\n      <th></th>\n      <th>name</th>\n      <th>categories</th>\n      <th>lat</th>\n      <th>lng</th>\n    </tr>\n  </thead>\n  <tbody>\n    <tr>\n      <th>0</th>\n      <td>Arturo's</td>\n      <td>Pizza Place</td>\n      <td>40.874412</td>\n      <td>-73.910271</td>\n    </tr>\n    <tr>\n      <th>1</th>\n      <td>Bikram Yoga</td>\n      <td>Yoga Studio</td>\n      <td>40.876844</td>\n      <td>-73.906204</td>\n    </tr>\n    <tr>\n      <th>2</th>\n      <td>Tibbett Diner</td>\n      <td>Diner</td>\n      <td>40.880404</td>\n      <td>-73.908937</td>\n    </tr>\n    <tr>\n      <th>3</th>\n      <td>Sam's Pizza</td>\n      <td>Pizza Place</td>\n      <td>40.879435</td>\n      <td>-73.905859</td>\n    </tr>\n    <tr>\n      <th>4</th>\n      <td>Starbucks</td>\n      <td>Coffee Shop</td>\n      <td>40.877531</td>\n      <td>-73.905582</td>\n    </tr>\n  </tbody>\n</table>\n</div>",
                        "text/plain": "            name   categories        lat        lng\n0       Arturo's  Pizza Place  40.874412 -73.910271\n1    Bikram Yoga  Yoga Studio  40.876844 -73.906204\n2  Tibbett Diner        Diner  40.880404 -73.908937\n3    Sam's Pizza  Pizza Place  40.879435 -73.905859\n4      Starbucks  Coffee Shop  40.877531 -73.905582"
                    },
                    "execution_count": 46,
                    "metadata": {},
                    "output_type": "execute_result"
                }
            ],
            "source": "MarbleHill_venues.head()"
        },
        {
            "cell_type": "code",
            "execution_count": 44,
            "metadata": {},
            "outputs": [
                {
                    "data": {
                        "text/html": "<div>\n<style scoped>\n    .dataframe tbody tr th:only-of-type {\n        vertical-align: middle;\n    }\n\n    .dataframe tbody tr th {\n        vertical-align: top;\n    }\n\n    .dataframe thead th {\n        text-align: right;\n    }\n</style>\n<table border=\"1\" class=\"dataframe\">\n  <thead>\n    <tr style=\"text-align: right;\">\n      <th></th>\n      <th>name</th>\n      <th>categories</th>\n      <th>lat</th>\n      <th>lng</th>\n    </tr>\n  </thead>\n  <tbody>\n    <tr>\n      <th>0</th>\n      <td>Cheeky Sandwiches</td>\n      <td>Sandwich Place</td>\n      <td>40.715821</td>\n      <td>-73.991830</td>\n    </tr>\n    <tr>\n      <th>1</th>\n      <td>Kiki's</td>\n      <td>Greek Restaurant</td>\n      <td>40.714476</td>\n      <td>-73.992036</td>\n    </tr>\n    <tr>\n      <th>2</th>\n      <td>Bar Belly</td>\n      <td>Cocktail Bar</td>\n      <td>40.715135</td>\n      <td>-73.991802</td>\n    </tr>\n    <tr>\n      <th>3</th>\n      <td>Hotel 50 Bowery NYC</td>\n      <td>Hotel</td>\n      <td>40.715936</td>\n      <td>-73.996789</td>\n    </tr>\n    <tr>\n      <th>4</th>\n      <td>Scarr's Pizza</td>\n      <td>Pizza Place</td>\n      <td>40.715335</td>\n      <td>-73.991649</td>\n    </tr>\n  </tbody>\n</table>\n</div>",
                        "text/plain": "                  name        categories        lat        lng\n0    Cheeky Sandwiches    Sandwich Place  40.715821 -73.991830\n1               Kiki's  Greek Restaurant  40.714476 -73.992036\n2            Bar Belly      Cocktail Bar  40.715135 -73.991802\n3  Hotel 50 Bowery NYC             Hotel  40.715936 -73.996789\n4        Scarr's Pizza       Pizza Place  40.715335 -73.991649"
                    },
                    "execution_count": 44,
                    "metadata": {},
                    "output_type": "execute_result"
                }
            ],
            "source": "Chinatown_venues.head()"
        },
        {
            "cell_type": "markdown",
            "metadata": {},
            "source": "<h2> Results </h2>"
        },
        {
            "cell_type": "markdown",
            "metadata": {},
            "source": "Now we will get only the venus of type Coffee Shop."
        },
        {
            "cell_type": "code",
            "execution_count": 55,
            "metadata": {},
            "outputs": [
                {
                    "name": "stdout",
                    "output_type": "stream",
                    "text": "Number of Coffe Shops in MarbleHill: 2\nNumber of Coffe Shops in Chinatown: 0\n"
                }
            ],
            "source": "MarbleHill_venues = MarbleHill_venues[MarbleHill_venues['categories'] == 'Coffee Shop']\nChinatown_venues = Chinatown_venues[Chinatown_venues['categories'] == 'Coffee Shop']\n\nprint('Number of Coffe Shops in MarbleHill: {}'.format(MarbleHill_venues.shape[0]))\nprint('Number of Coffe Shops in Chinatown: {}'.format(Chinatown_venues.shape[0]))"
        },
        {
            "cell_type": "markdown",
            "metadata": {},
            "source": "<h2> Discussion </h2>\n\nAs we could see above, MarbleHill has more venues of type Coffe Shop than Chinatown."
        },
        {
            "cell_type": "markdown",
            "metadata": {},
            "source": "<h2> Conclusion </h2>"
        },
        {
            "cell_type": "markdown",
            "metadata": {},
            "source": "Just because MarbleHill has more venues of type Coffe Shop than Chinatown, it does not mean there are not other venus with other types that sell Coffe, so they are kind of a Coffe Shop also."
        },
        {
            "cell_type": "code",
            "execution_count": null,
            "metadata": {},
            "outputs": [],
            "source": ""
        }
    ],
    "metadata": {
        "kernelspec": {
            "display_name": "Python 3.6",
            "language": "python",
            "name": "python3"
        },
        "language_info": {
            "codemirror_mode": {
                "name": "ipython",
                "version": 3
            },
            "file_extension": ".py",
            "mimetype": "text/x-python",
            "name": "python",
            "nbconvert_exporter": "python",
            "pygments_lexer": "ipython3",
            "version": "3.6.9"
        }
    },
    "nbformat": 4,
    "nbformat_minor": 1
}